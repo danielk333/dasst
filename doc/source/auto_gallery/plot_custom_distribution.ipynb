{
  "cells": [
    {
      "cell_type": "code",
      "execution_count": null,
      "metadata": {
        "collapsed": false
      },
      "outputs": [],
      "source": [
        "%matplotlib inline"
      ]
    },
    {
      "cell_type": "markdown",
      "metadata": {},
      "source": [
        "\nThis is my example script\n=========================\n\nDocstring for this example\n"
      ]
    },
    {
      "cell_type": "code",
      "execution_count": null,
      "metadata": {
        "collapsed": false
      },
      "outputs": [],
      "source": [
        "import numpy as np\nfrom scipy.stats import norm\nimport matplotlib.pyplot as plt\n\nfrom dasst.distributions import InverseTransformDistribution\n\nclass MyDist(InverseTransformDistribution):\n\n    def cdf_inverse(self, p: np.ndarray, **kwargs) -> np.ndarray:\n        return norm.ppf(p, **kwargs)\n\n\n\nnp.random.seed(1)\n\ndist = MyDist()\nsamples = dist.sample((10000,), loc=10)\n\nplt.hist(samples,100)\nplt.show()"
      ]
    }
  ],
  "metadata": {
    "kernelspec": {
      "display_name": "Python 3",
      "language": "python",
      "name": "python3"
    },
    "language_info": {
      "codemirror_mode": {
        "name": "ipython",
        "version": 3
      },
      "file_extension": ".py",
      "mimetype": "text/x-python",
      "name": "python",
      "nbconvert_exporter": "python",
      "pygments_lexer": "ipython3",
      "version": "3.7.0"
    }
  },
  "nbformat": 4,
  "nbformat_minor": 0
}